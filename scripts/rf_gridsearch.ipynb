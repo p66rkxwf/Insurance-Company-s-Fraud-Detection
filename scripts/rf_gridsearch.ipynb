{
 "cells": [
  {
   "cell_type": "markdown",
   "id": "e0e34b04",
   "metadata": {},
   "source": [
    "##### 1.載入套件"
   ]
  },
  {
   "cell_type": "code",
   "execution_count": 36,
   "id": "f97da5e2",
   "metadata": {},
   "outputs": [],
   "source": [
    "import numpy as np\n",
    "import pandas as pd\n",
    "import matplotlib.pyplot as plt\n",
    "import time\n",
    "\n",
    "from scipy.stats import zscore\n",
    "import statsmodels.api as sm\n",
    "\n",
    "from sklearn.base import BaseEstimator, TransformerMixin\n",
    "from sklearn.compose import ColumnTransformer\n",
    "from sklearn.ensemble import RandomForestClassifier\n",
    "from sklearn.impute import SimpleImputer\n",
    "from sklearn.linear_model import LogisticRegression\n",
    "from sklearn.metrics import (\n",
    "    classification_report,\n",
    "    confusion_matrix,\n",
    "    roc_auc_score,\n",
    "    roc_curve,\n",
    "    auc as sk_auc,\n",
    "    recall_score,\n",
    "    precision_score,\n",
    "    fbeta_score\n",
    ")\n",
    "from sklearn.model_selection import train_test_split, StratifiedKFold, ParameterGrid\n",
    "from sklearn.pipeline import Pipeline\n",
    "from sklearn.preprocessing import MinMaxScaler, OneHotEncoder, FunctionTransformer\n",
    "\n",
    "from imblearn.over_sampling import SMOTENC\n",
    "from category_encoders import TargetEncoder"
   ]
  },
  {
   "cell_type": "code",
   "execution_count": 47,
   "id": "4cbd575b",
   "metadata": {},
   "outputs": [],
   "source": [
    "import os\n",
    "\n",
    "def save_plot(fig, filename, model_name='random_forest'):\n",
    "    \"\"\"\n",
    "    儲存圖表到 ../results/{model_name}/{filename}\n",
    "    \"\"\"\n",
    "    path = f'../results/{model_name}'\n",
    "    os.makedirs(path, exist_ok=True)\n",
    "    fig.savefig(f'{path}/{filename}', dpi=300)\n"
   ]
  },
  {
   "cell_type": "markdown",
   "id": "9d74768a",
   "metadata": {},
   "source": [
    "##### 2.讀取資料與切分訓驗測集"
   ]
  },
  {
   "cell_type": "code",
   "execution_count": 38,
   "id": "c54111e1",
   "metadata": {},
   "outputs": [],
   "source": [
    "df = pd.read_csv('../raw_data/train_2025.csv')\n",
    "X = df.drop(columns=['claim_number', 'fraud'])  # 移除 ID 與目標欄位\n",
    "y = df['fraud']\n",
    "# 切分資料集：60% 訓練、20% 驗證、20% 測試\n",
    "X_train, X_temp, y_train, y_temp = train_test_split(\n",
    "    X, y, test_size=0.4, random_state=42, stratify=y)\n",
    "X_valid, X_test, y_valid, y_test = train_test_split(\n",
    "    X_temp, y_temp, test_size=0.5, random_state=42, stratify=y_temp)"
   ]
  },
  {
   "cell_type": "markdown",
   "id": "bfd6d729",
   "metadata": {},
   "source": [
    "##### 3.資料清洗與特徵欄位分類"
   ]
  },
  {
   "cell_type": "code",
   "execution_count": 39,
   "id": "2a98c246",
   "metadata": {},
   "outputs": [],
   "source": [
    "# 以下特徵工程跟logit一樣，可省略不看\n",
    "mask = ~X_train['zip_code'].astype(str).str.startswith('0')\n",
    "X_train = X_train[mask].reset_index(drop=True)\n",
    "y_train = y_train[mask].reset_index(drop=True)\n",
    "\n",
    "cat_cols = [\n",
    "    'gender', 'marital_status', 'high_education_ind', 'address_change_ind',\n",
    "    'living_status', 'zip_code', 'claim_date', 'claim_day_of_week', 'accident_site',\n",
    "    'witness_present_ind', 'channel', 'policy_report_filed_ind', 'vehicle_category', 'vehicle_color'\n",
    "]\n",
    "num_cols = [col for col in X_train.columns if col not in cat_cols]"
   ]
  },
  {
   "cell_type": "markdown",
   "id": "0e5ca002",
   "metadata": {},
   "source": [
    "##### 4.自訂欄位轉換器類別與函數"
   ]
  },
  {
   "cell_type": "code",
   "execution_count": 40,
   "id": "990db8b2",
   "metadata": {},
   "outputs": [],
   "source": [
    "def encode_gender(X): return (X == 'M').astype(int)\n",
    "def encode_living_status(X): return (X == 'Own').astype(int)\n",
    "\n",
    "# class Zip3Extractor(BaseEstimator, TransformerMixin):\n",
    "#     def fit(self, X, y=None): self.feature_names_in_ = list(X.columns); return self\n",
    "#     def transform(self, X): return pd.DataFrame(X, columns=self.feature_names_in_).apply(lambda col: col.astype(str).str[:3])\n",
    "#     def get_feature_names_out(self, input_features=None): return [f\"{feat}_zip3\" for feat in (input_features or ['zip3'])]\n",
    "\n",
    "# class ExtractMonthYear(BaseEstimator, TransformerMixin):\n",
    "#     def fit(self, X, y=None): self.feature_names_in_ = list(X.columns); return self\n",
    "#     def transform(self, X): return pd.to_datetime(X.iloc[:, 0], errors='coerce').dt.to_period('M').astype(str).to_frame()\n",
    "#     def get_feature_names_out(self, input_features=None): return [f\"{feat}_month_year\" for feat in (input_features or ['claim_date'])]\n",
    "\n",
    "class Zip3Extractor(BaseEstimator, TransformerMixin):\n",
    "    def fit(self, X, y=None):\n",
    "        self.feature_names_in_ = (\n",
    "            list(X.columns) if hasattr(X, 'columns') else [f'x{i}' for i in range(X.shape[1])]\n",
    "        )\n",
    "        return self\n",
    "\n",
    "    def transform(self, X):\n",
    "        df = pd.DataFrame(X, columns=self.feature_names_in_)\n",
    "        return df.apply(lambda col: col.astype(str).str[:3])\n",
    "\n",
    "    def get_feature_names_out(self, input_features=None):\n",
    "        if input_features is None:\n",
    "            input_features = self.feature_names_in_\n",
    "        return [f\"{feat}_zip3\" for feat in input_features]\n",
    "    \n",
    "class ExtractMonthYear(BaseEstimator, TransformerMixin):\n",
    "    def fit(self, X, y=None):\n",
    "        self.feature_names_in_ = (\n",
    "            list(X.columns) if hasattr(X, 'columns') else [f'x{i}' for i in range(X.shape[1])]\n",
    "        )\n",
    "        return self\n",
    "\n",
    "    def transform(self, X):\n",
    "        s = pd.Series(X[:, 0]) if isinstance(X, np.ndarray) else X.iloc[:, 0]\n",
    "        date = pd.to_datetime(s, errors='coerce')\n",
    "        return date.dt.to_period('M').astype(str).to_frame()\n",
    "\n",
    "    def get_feature_names_out(self, input_features=None):\n",
    "        if input_features is None:\n",
    "            input_features = self.feature_names_in_\n",
    "        return [f\"{feat}_month_year\" for feat in input_features]\n",
    "\n",
    "\n",
    "\n",
    "class TargetEncoderWrapper(TargetEncoder):\n",
    "    def get_feature_names_out(self, input_features=None): return input_features if input_features is not None else self.feature_names_in_\n"
   ]
  },
  {
   "cell_type": "markdown",
   "id": "8740fa8d",
   "metadata": {},
   "source": [
    "##### 5.設定各欄位的轉換流程"
   ]
  },
  {
   "cell_type": "code",
   "execution_count": 41,
   "id": "b9e47232",
   "metadata": {},
   "outputs": [],
   "source": [
    "marital_witness_pipeline = Pipeline([\n",
    "    ('imputer', SimpleImputer(strategy='most_frequent'))])\n",
    "\n",
    "gender_pipeline = Pipeline([\n",
    "    ('imputer', SimpleImputer(strategy='most_frequent')), \n",
    "    ('label_encoder', FunctionTransformer(encode_gender, validate=False, feature_names_out='one-to-one'))])\n",
    "\n",
    "living_status_pipeline = Pipeline([\n",
    "    ('imputer', SimpleImputer(strategy='most_frequent')), \n",
    "    ('label_encoder', FunctionTransformer(encode_living_status, validate=False, feature_names_out='one-to-one'))])\n",
    "\n",
    "zip3_pipeline = Pipeline([\n",
    "    ('imputer', SimpleImputer(strategy='most_frequent')), \n",
    "    ('zip3_extract', Zip3Extractor()), \n",
    "    ('target', TargetEncoderWrapper())])\n",
    "\n",
    "claim_date_pipeline = Pipeline([\n",
    "    ('imputer', SimpleImputer(strategy='most_frequent')), \n",
    "    ('extract_month_year', ExtractMonthYear()), ('target', TargetEncoderWrapper())])\n",
    "\n",
    "num_pipeline = Pipeline([\n",
    "    ('imputer', SimpleImputer(strategy='median')), \n",
    "    ('scaler', MinMaxScaler())])\n",
    "\n",
    "target_cat_cols = ['claim_day_of_week', 'accident_site', 'channel', 'vehicle_category', 'vehicle_color']\n",
    "\n",
    "target_cat_pipeline = Pipeline([\n",
    "    ('imputer', SimpleImputer(strategy='most_frequent')), \n",
    "    ('target', TargetEncoderWrapper())])\n"
   ]
  },
  {
   "cell_type": "markdown",
   "id": "6730854e",
   "metadata": {},
   "source": [
    "##### 6.整合特徵轉換流程為 ColumnTransformer"
   ]
  },
  {
   "cell_type": "code",
   "execution_count": 42,
   "id": "de8ed787",
   "metadata": {},
   "outputs": [],
   "source": [
    "# 整合所有欄位轉換 \n",
    "transformers = [\n",
    "    ('marital_witness', marital_witness_pipeline, ['marital_status', 'witness_present_ind']),\n",
    "    ('gender', gender_pipeline, ['gender']),\n",
    "    ('living_status', living_status_pipeline, ['living_status']),\n",
    "    ('zip_code', zip3_pipeline, ['zip_code']),\n",
    "    ('claim_date', claim_date_pipeline, ['claim_date']),\n",
    "    ('num', num_pipeline, num_cols),\n",
    "    ('cat_imputer', target_cat_pipeline, target_cat_cols)\n",
    "]\n",
    "preprocessor = ColumnTransformer(transformers, remainder='passthrough')\n"
   ]
  },
  {
   "cell_type": "markdown",
   "id": "ae4e99ac",
   "metadata": {},
   "source": [
    "##### 7.設定超參數與交叉驗證策略"
   ]
  },
  {
   "cell_type": "code",
   "execution_count": 43,
   "id": "8745befd",
   "metadata": {},
   "outputs": [],
   "source": [
    "param_grid = {\n",
    "    \"n_estimators\": [100, 300],\n",
    "    \"max_depth\": [None, 10],\n",
    "    \"min_samples_split\": [2, 10],\n",
    "    \"min_samples_leaf\": [1, 4],\n",
    "    \"max_features\": [\"sqrt\"],\n",
    "    'class_weight': [None, 'balanced']\n",
    "}\n",
    "grid = ParameterGrid(param_grid)\n",
    "skf = StratifiedKFold(n_splits=5, shuffle=True, random_state=42)"
   ]
  },
  {
   "cell_type": "markdown",
   "id": "1ac8eb41",
   "metadata": {},
   "source": [
    "##### 8.執行 Grid Search 與交叉驗證訓練模型"
   ]
  },
  {
   "cell_type": "code",
   "execution_count": 44,
   "id": "86b82141",
   "metadata": {},
   "outputs": [
    {
     "name": "stdout",
     "output_type": "stream",
     "text": [
      "Params {'class_weight': None, 'max_depth': None, 'max_features': 'sqrt', 'min_samples_leaf': 1, 'min_samples_split': 2, 'n_estimators': 100} | Mean AUC: 0.6500\n",
      "Params {'class_weight': None, 'max_depth': None, 'max_features': 'sqrt', 'min_samples_leaf': 1, 'min_samples_split': 2, 'n_estimators': 300} | Mean AUC: 0.6549\n",
      "Params {'class_weight': None, 'max_depth': None, 'max_features': 'sqrt', 'min_samples_leaf': 1, 'min_samples_split': 10, 'n_estimators': 100} | Mean AUC: 0.6526\n",
      "Params {'class_weight': None, 'max_depth': None, 'max_features': 'sqrt', 'min_samples_leaf': 1, 'min_samples_split': 10, 'n_estimators': 300} | Mean AUC: 0.6544\n",
      "Params {'class_weight': None, 'max_depth': None, 'max_features': 'sqrt', 'min_samples_leaf': 4, 'min_samples_split': 2, 'n_estimators': 100} | Mean AUC: 0.6548\n",
      "Params {'class_weight': None, 'max_depth': None, 'max_features': 'sqrt', 'min_samples_leaf': 4, 'min_samples_split': 2, 'n_estimators': 300} | Mean AUC: 0.6570\n",
      "Params {'class_weight': None, 'max_depth': None, 'max_features': 'sqrt', 'min_samples_leaf': 4, 'min_samples_split': 10, 'n_estimators': 100} | Mean AUC: 0.6528\n",
      "Params {'class_weight': None, 'max_depth': None, 'max_features': 'sqrt', 'min_samples_leaf': 4, 'min_samples_split': 10, 'n_estimators': 300} | Mean AUC: 0.6578\n",
      "Params {'class_weight': None, 'max_depth': 10, 'max_features': 'sqrt', 'min_samples_leaf': 1, 'min_samples_split': 2, 'n_estimators': 100} | Mean AUC: 0.6566\n",
      "Params {'class_weight': None, 'max_depth': 10, 'max_features': 'sqrt', 'min_samples_leaf': 1, 'min_samples_split': 2, 'n_estimators': 300} | Mean AUC: 0.6587\n",
      "Params {'class_weight': None, 'max_depth': 10, 'max_features': 'sqrt', 'min_samples_leaf': 1, 'min_samples_split': 10, 'n_estimators': 100} | Mean AUC: 0.6558\n",
      "Params {'class_weight': None, 'max_depth': 10, 'max_features': 'sqrt', 'min_samples_leaf': 1, 'min_samples_split': 10, 'n_estimators': 300} | Mean AUC: 0.6573\n",
      "Params {'class_weight': None, 'max_depth': 10, 'max_features': 'sqrt', 'min_samples_leaf': 4, 'min_samples_split': 2, 'n_estimators': 100} | Mean AUC: 0.6551\n",
      "Params {'class_weight': None, 'max_depth': 10, 'max_features': 'sqrt', 'min_samples_leaf': 4, 'min_samples_split': 2, 'n_estimators': 300} | Mean AUC: 0.6580\n",
      "Params {'class_weight': None, 'max_depth': 10, 'max_features': 'sqrt', 'min_samples_leaf': 4, 'min_samples_split': 10, 'n_estimators': 100} | Mean AUC: 0.6576\n",
      "Params {'class_weight': None, 'max_depth': 10, 'max_features': 'sqrt', 'min_samples_leaf': 4, 'min_samples_split': 10, 'n_estimators': 300} | Mean AUC: 0.6574\n",
      "Params {'class_weight': 'balanced', 'max_depth': None, 'max_features': 'sqrt', 'min_samples_leaf': 1, 'min_samples_split': 2, 'n_estimators': 100} | Mean AUC: 0.6500\n",
      "Params {'class_weight': 'balanced', 'max_depth': None, 'max_features': 'sqrt', 'min_samples_leaf': 1, 'min_samples_split': 2, 'n_estimators': 300} | Mean AUC: 0.6549\n",
      "Params {'class_weight': 'balanced', 'max_depth': None, 'max_features': 'sqrt', 'min_samples_leaf': 1, 'min_samples_split': 10, 'n_estimators': 100} | Mean AUC: 0.6526\n",
      "Params {'class_weight': 'balanced', 'max_depth': None, 'max_features': 'sqrt', 'min_samples_leaf': 1, 'min_samples_split': 10, 'n_estimators': 300} | Mean AUC: 0.6544\n",
      "Params {'class_weight': 'balanced', 'max_depth': None, 'max_features': 'sqrt', 'min_samples_leaf': 4, 'min_samples_split': 2, 'n_estimators': 100} | Mean AUC: 0.6548\n",
      "Params {'class_weight': 'balanced', 'max_depth': None, 'max_features': 'sqrt', 'min_samples_leaf': 4, 'min_samples_split': 2, 'n_estimators': 300} | Mean AUC: 0.6570\n",
      "Params {'class_weight': 'balanced', 'max_depth': None, 'max_features': 'sqrt', 'min_samples_leaf': 4, 'min_samples_split': 10, 'n_estimators': 100} | Mean AUC: 0.6528\n",
      "Params {'class_weight': 'balanced', 'max_depth': None, 'max_features': 'sqrt', 'min_samples_leaf': 4, 'min_samples_split': 10, 'n_estimators': 300} | Mean AUC: 0.6578\n",
      "Params {'class_weight': 'balanced', 'max_depth': 10, 'max_features': 'sqrt', 'min_samples_leaf': 1, 'min_samples_split': 2, 'n_estimators': 100} | Mean AUC: 0.6566\n",
      "Params {'class_weight': 'balanced', 'max_depth': 10, 'max_features': 'sqrt', 'min_samples_leaf': 1, 'min_samples_split': 2, 'n_estimators': 300} | Mean AUC: 0.6587\n",
      "Params {'class_weight': 'balanced', 'max_depth': 10, 'max_features': 'sqrt', 'min_samples_leaf': 1, 'min_samples_split': 10, 'n_estimators': 100} | Mean AUC: 0.6558\n",
      "Params {'class_weight': 'balanced', 'max_depth': 10, 'max_features': 'sqrt', 'min_samples_leaf': 1, 'min_samples_split': 10, 'n_estimators': 300} | Mean AUC: 0.6573\n",
      "Params {'class_weight': 'balanced', 'max_depth': 10, 'max_features': 'sqrt', 'min_samples_leaf': 4, 'min_samples_split': 2, 'n_estimators': 100} | Mean AUC: 0.6551\n",
      "Params {'class_weight': 'balanced', 'max_depth': 10, 'max_features': 'sqrt', 'min_samples_leaf': 4, 'min_samples_split': 2, 'n_estimators': 300} | Mean AUC: 0.6580\n",
      "Params {'class_weight': 'balanced', 'max_depth': 10, 'max_features': 'sqrt', 'min_samples_leaf': 4, 'min_samples_split': 10, 'n_estimators': 100} | Mean AUC: 0.6576\n",
      "Params {'class_weight': 'balanced', 'max_depth': 10, 'max_features': 'sqrt', 'min_samples_leaf': 4, 'min_samples_split': 10, 'n_estimators': 300} | Mean AUC: 0.6574\n",
      "執行時間: 1248.70 秒\n",
      "\n",
      "最佳超參數: {'class_weight': None, 'max_depth': 10, 'max_features': 'sqrt', 'min_samples_leaf': 1, 'min_samples_split': 2, 'n_estimators': 300}\n",
      "平均 ROC-AUC: 0.6586542082081186\n"
     ]
    }
   ],
   "source": [
    "results = []\n",
    "\n",
    "# 1. 計時開始\n",
    "start_time = time.time() \n",
    "\n",
    "for idx, param in enumerate(grid):\n",
    "    aucs = []\n",
    "    for tr_idx, val_idx in skf.split(X_train, y_train):\n",
    "        X_tr_f, X_val_f = X_train.iloc[tr_idx], X_train.iloc[val_idx]\n",
    "        y_tr_f, y_val_f = y_train.iloc[tr_idx], y_train.iloc[val_idx]\n",
    "\n",
    "        z_scores = X_tr_f[num_cols].apply(zscore)\n",
    "        mask_no_outliers = (z_scores.abs() < 3).all(axis=1)\n",
    "        X_tr_f = X_tr_f[mask_no_outliers].reset_index(drop=True)\n",
    "        y_tr_f = y_tr_f[mask_no_outliers].reset_index(drop=True)\n",
    "\n",
    "        # 每一次迴圈都要重新 fit-transform 特徵工程\n",
    "        X_tr_transformed = preprocessor.fit_transform(X_tr_f, y_tr_f)\n",
    "        X_val_transformed = preprocessor.transform(X_val_f)\n",
    "\n",
    "        categorical_feature_indices = [\n",
    "            i for i, col in enumerate(preprocessor.get_feature_names_out())\n",
    "            if col.startswith('gender__') or col.startswith('living_status__') or\n",
    "               col.startswith('zip_code__') or col.startswith('claim_date__') or\n",
    "               col.startswith('cat_imputer__') or col.startswith('remainder__')\n",
    "        ]\n",
    "        smote_nc = SMOTENC(categorical_features=categorical_feature_indices, random_state=42)\n",
    "        X_resampled, y_resampled = smote_nc.fit_resample(X_tr_transformed, y_tr_f)\n",
    "\n",
    "        # 訓練模型\n",
    "        model = RandomForestClassifier(**param, random_state=42)\n",
    "        model.fit(X_resampled, y_resampled)\n",
    "\n",
    "        # 驗證並計算 AUC\n",
    "        y_pred_proba = model.predict_proba(X_val_transformed)[:, 1]\n",
    "        auc = roc_auc_score(y_val_f, y_pred_proba)\n",
    "        aucs.append(auc)\n",
    "\n",
    "    mean_auc = np.mean(aucs)\n",
    "    results.append((param, mean_auc))\n",
    "    print(f\"Params {param} | Mean AUC: {mean_auc:.4f}\")\n",
    "\n",
    "end_time = time.time()\n",
    "print(f\"執行時間: {end_time - start_time:.2f} 秒\")\n",
    "\n",
    "#  找出最佳組合\n",
    "best_param, best_score = max(results, key=lambda x: x[1])\n",
    "print(\"\\n最佳超參數:\", best_param)\n",
    "print(\"平均 ROC-AUC:\", best_score)\n"
   ]
  },
  {
   "cell_type": "markdown",
   "id": "e0f56927",
   "metadata": {},
   "source": [
    "##### 9.計算最佳閾值與驗證集評估"
   ]
  },
  {
   "cell_type": "code",
   "execution_count": 45,
   "id": "2df393e5",
   "metadata": {},
   "outputs": [
    {
     "name": "stderr",
     "output_type": "stream",
     "text": [
      "d:\\users\\anaconda\\envs\\Fraud_Detection\\lib\\site-packages\\sklearn\\metrics\\_classification.py:1344: UndefinedMetricWarning: Precision is ill-defined and being set to 0.0 due to no predicted samples. Use `zero_division` parameter to control this behavior.\n",
      "  _warn_prf(average, modifier, msg_start, len(result))\n"
     ]
    },
    {
     "name": "stdout",
     "output_type": "stream",
     "text": [
      "最佳 Recall 下界時的閾值：0.3141\n"
     ]
    }
   ],
   "source": [
    "final_rf = RandomForestClassifier(random_state=42, n_jobs=-1, **best_param)\n",
    "final_rf.fit(X_resampled, y_resampled)\n",
    "\n",
    "X_valid_transformed = preprocessor.transform(X_valid)\n",
    "y_proba = final_rf.predict_proba(X_valid_transformed)[:, 1]\n",
    "fpr, tpr, thresholds = roc_curve(y_valid, y_proba)\n",
    "roc_auc = sk_auc(fpr, tpr)\n",
    "\n",
    "# 以 Recall 下限 尋找最佳閾值\n",
    "target_recall = 0.8\n",
    "best_threshold, best_prec = 0, 0\n",
    "for threshold in thresholds:\n",
    "    y_pred_thresh = (y_proba >= threshold).astype(int)\n",
    "    recall = recall_score(y_valid, y_pred_thresh)\n",
    "    precision = precision_score(y_valid, y_pred_thresh)\n",
    "    if recall >= target_recall and precision > best_prec:\n",
    "        best_threshold, best_prec = threshold, precision\n",
    "\n",
    "print(f'最佳 Recall 下界時的閾值：{best_threshold:.4f}')\n"
   ]
  },
  {
   "cell_type": "markdown",
   "id": "9ab4a820",
   "metadata": {},
   "source": [
    "##### 10.測試集預測與繪製特徵重要性圖"
   ]
  },
  {
   "cell_type": "code",
   "execution_count": null,
   "id": "b4ba40ff",
   "metadata": {},
   "outputs": [
    {
     "name": "stdout",
     "output_type": "stream",
     "text": [
      "測試集績效報告：\n",
      "              precision    recall  f1-score   support\n",
      "\n",
      "           0       0.92      0.42      0.58      3031\n",
      "           1       0.21      0.82      0.33       569\n",
      "\n",
      "    accuracy                           0.48      3600\n",
      "   macro avg       0.57      0.62      0.46      3600\n",
      "weighted avg       0.81      0.48      0.54      3600\n",
      "\n",
      "\n",
      "auc: 0.6664\n",
      "f2-score: 0.5160\n"
     ]
    },
    {
     "data": {
      "image/png": "[encoded data removed]",
      "text/plain": [
       "<Figure size 1000x690 with 1 Axes>"
      ]
     },
     "metadata": {},
     "output_type": "display_data"
    }
   ],
   "source": [
    "X_test_transformed = preprocessor.transform(X_test)\n",
    "y_test_proba = final_rf.predict_proba(X_test_transformed)[:, 1]\n",
    "y_test_pred = (y_test_proba >= best_threshold).astype(int)\n",
    "\n",
    "# 計算測試集上的績效指標\n",
    "print(\"測試集績效報告：\")\n",
    "print(classification_report(y_test, y_test_pred))\n",
    "print(f'\\nauc: {roc_auc:.04f}')\n",
    "print(f'f2-score: {fbeta_score(y_test, y_test_pred, beta=2):.04f}')\n",
    "\n",
    "# 從訓練好的隨機森林模型取得特徵重要性\n",
    "importances = final_rf.feature_importances_\n",
    "feature_names = preprocessor.get_feature_names_out()\n",
    "\n",
    "# 建立 DataFrame 並排序（由高到低）\n",
    "feat_imp = pd.DataFrame({\n",
    "    'feature': feature_names, 'importance': importances}\n",
    "    ).sort_values(by='importance', ascending=False)\n",
    "\n",
    "# 畫圖：橫向長條圖（從低到高畫起）\n",
    "plt.figure(figsize=(10, len(feat_imp) * 0.3)) # 高度依照特徵數量自動調整\n",
    "plt.barh(feat_imp['feature'][::-1], feat_imp['importance'][::-1], color='teal')\n",
    "plt.xlabel(\"Feature Importance\")\n",
    "plt.title(\"All Feature Importances (Random Forest)\")\n",
    "plt.tight_layout()\n",
    "save_plot(plt.gcf(), 'feature_importance.png', model_name='random_forest')\n",
    "plt.show()"
   ]
  }
 ],
 "metadata": {
  "kernelspec": {
   "display_name": "Fraud_Detection",
   "language": "python",
   "name": "python3"
  },
  "language_info": {
   "codemirror_mode": {
    "name": "ipython",
    "version": 3
   },
   "file_extension": ".py",
   "mimetype": "text/x-python",
   "name": "python",
   "nbconvert_exporter": "python",
   "pygments_lexer": "ipython3",
   "version": "3.9.21"
  }
 },
 "nbformat": 4,
 "nbformat_minor": 5
}
