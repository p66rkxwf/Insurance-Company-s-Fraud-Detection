{
 "cells": [
  {
   "cell_type": "markdown",
   "id": "3ef0f95f",
   "metadata": {},
   "source": [
    "##### 1.匯入套件"
   ]
  },
  {
   "cell_type": "code",
   "execution_count": 1,
   "id": "691fd261",
   "metadata": {},
   "outputs": [],
   "source": [
    "import numpy as np\n",
    "import pandas as pd\n",
    "import matplotlib.pyplot as plt\n",
    "import time\n",
    "import os\n",
    "\n",
    "from scipy.stats import zscore\n",
    "import statsmodels.api as sm\n",
    "\n",
    "from sklearn.base import BaseEstimator, TransformerMixin\n",
    "from sklearn.compose import ColumnTransformer\n",
    "from sklearn.ensemble import RandomForestClassifier\n",
    "from sklearn.impute import SimpleImputer\n",
    "from sklearn.linear_model import LogisticRegression\n",
    "from sklearn.metrics import (\n",
    "    classification_report, confusion_matrix, roc_auc_score, roc_curve,\n",
    "    auc as sk_auc, recall_score, precision_score, fbeta_score\n",
    ")\n",
    "from sklearn.model_selection import train_test_split, StratifiedKFold, ParameterGrid\n",
    "from sklearn.pipeline import Pipeline\n",
    "from sklearn.preprocessing import MinMaxScaler, OneHotEncoder, FunctionTransformer\n",
    "\n",
    "from imblearn.over_sampling import SMOTENC\n",
    "from category_encoders import TargetEncoder"
   ]
  },
  {
   "cell_type": "code",
   "execution_count": 2,
   "id": "cad0011a",
   "metadata": {},
   "outputs": [],
   "source": [
    "# === 匯入圖表儲存函數 ===\n",
    "def save_plot(fig, filename, model_name='rf_halving'):\n",
    "    \"\"\"\n",
    "    儲存圖表到 ../results/{model_name}/{filename}\n",
    "    \"\"\"\n",
    "    path = f'../results/{model_name}'\n",
    "    os.makedirs(path, exist_ok=True)\n",
    "    fig.savefig(f'{path}/{filename}', dpi=300)\n"
   ]
  },
  {
   "cell_type": "markdown",
   "id": "9eb701e0",
   "metadata": {},
   "source": [
    "##### 2.讀取資料與切割訓練、驗證與測試集"
   ]
  },
  {
   "cell_type": "code",
   "execution_count": 3,
   "id": "01037438",
   "metadata": {},
   "outputs": [],
   "source": [
    "df = pd.read_csv('../raw_data/train_2025.csv')\n",
    "X = df.drop(columns=['claim_number', 'fraud'])\n",
    "y = df['fraud']\n",
    "\n",
    "# 60% 訓練、20% 驗證、20% 測試\n",
    "X_train, X_temp, y_train, y_temp = train_test_split(X, y, test_size=0.4, random_state=42, stratify=y)\n",
    "X_valid, X_test, y_valid, y_test = train_test_split(X_temp, y_temp, test_size=0.5, random_state=42, stratify=y_temp)"
   ]
  },
  {
   "cell_type": "markdown",
   "id": "2dfc3574",
   "metadata": {},
   "source": [
    "##### 3. 資料清洗與預處理"
   ]
  },
  {
   "cell_type": "code",
   "execution_count": 4,
   "id": "dbeef35c",
   "metadata": {},
   "outputs": [],
   "source": [
    "# 以下特徵工程跟logit一樣，可省略不看\n",
    "mask = ~X_train['zip_code'].astype(str).str.startswith('0')\n",
    "X_train = X_train[mask].reset_index(drop=True)\n",
    "y_train = y_train[mask].reset_index(drop=True)\n",
    "\n",
    "cat_cols = [\n",
    "    'gender', 'marital_status', 'high_education_ind', 'address_change_ind',\n",
    "    'living_status', 'zip_code', 'claim_date', 'claim_day_of_week', 'accident_site',\n",
    "    'witness_present_ind', 'channel', 'policy_report_filed_ind', 'vehicle_category', 'vehicle_color'\n",
    "]\n",
    "num_cols = [col for col in X_train.columns if col not in cat_cols]"
   ]
  },
  {
   "cell_type": "markdown",
   "id": "2f496c6d",
   "metadata": {},
   "source": [
    "##### 4. 建立特徵轉換器（自定義）"
   ]
  },
  {
   "cell_type": "code",
   "execution_count": 5,
   "id": "5074555b",
   "metadata": {},
   "outputs": [],
   "source": [
    "def encode_gender(X): return (X == 'M').astype(int)\n",
    "def encode_living_status(X): return (X == 'Own').astype(int)\n",
    "\n",
    "# class Zip3Extractor(BaseEstimator, TransformerMixin):\n",
    "#     def fit(self, X, y=None): self.feature_names_in_ = list(X.columns); return self\n",
    "#     def transform(self, X): return pd.DataFrame(X, columns=self.feature_names_in_).apply(lambda col: col.astype(str).str[:3])\n",
    "#     def get_feature_names_out(self, input_features=None): return [f\"{feat}_zip3\" for feat in (input_features or ['zip3'])]\n",
    "\n",
    "# class ExtractMonthYear(BaseEstimator, TransformerMixin):\n",
    "#     def fit(self, X, y=None): self.feature_names_in_ = list(X.columns); return self\n",
    "#     def transform(self, X): return pd.to_datetime(X.iloc[:, 0], errors='coerce').dt.to_period('M').astype(str).to_frame()\n",
    "#     def get_feature_names_out(self, input_features=None): return [f\"{feat}_month_year\" for feat in (input_features or ['claim_date'])]\n",
    "\n",
    "class Zip3Extractor(BaseEstimator, TransformerMixin):\n",
    "    def fit(self, X, y=None):\n",
    "        self.feature_names_in_ = (\n",
    "            list(X.columns) if hasattr(X, 'columns') else [f'x{i}' for i in range(X.shape[1])]\n",
    "        )\n",
    "        return self\n",
    "\n",
    "    def transform(self, X):\n",
    "        df = pd.DataFrame(X, columns=self.feature_names_in_)\n",
    "        return df.apply(lambda col: col.astype(str).str[:3])\n",
    "\n",
    "    def get_feature_names_out(self, input_features=None):\n",
    "        if input_features is None:\n",
    "            input_features = self.feature_names_in_\n",
    "        return [f\"{feat}_zip3\" for feat in input_features]\n",
    "    \n",
    "class ExtractMonthYear(BaseEstimator, TransformerMixin):\n",
    "    def fit(self, X, y=None):\n",
    "        self.feature_names_in_ = (\n",
    "            list(X.columns) if hasattr(X, 'columns') else [f'x{i}' for i in range(X.shape[1])]\n",
    "        )\n",
    "        return self\n",
    "\n",
    "    def transform(self, X):\n",
    "        s = pd.Series(X[:, 0]) if isinstance(X, np.ndarray) else X.iloc[:, 0]\n",
    "        date = pd.to_datetime(s, errors='coerce')\n",
    "        return date.dt.to_period('M').astype(str).to_frame()\n",
    "\n",
    "    def get_feature_names_out(self, input_features=None):\n",
    "        if input_features is None:\n",
    "            input_features = self.feature_names_in_\n",
    "        return [f\"{feat}_month_year\" for feat in input_features]\n",
    "\n",
    "\n",
    "class TargetEncoderWrapper(TargetEncoder):\n",
    "    def get_feature_names_out(self, input_features=None): return input_features if input_features is not None else self.feature_names_in_"
   ]
  },
  {
   "cell_type": "markdown",
   "id": "29901571",
   "metadata": {},
   "source": [
    "##### 5. 預處理流程建構"
   ]
  },
  {
   "cell_type": "code",
   "execution_count": 6,
   "id": "4ed04380",
   "metadata": {},
   "outputs": [],
   "source": [
    "marital_witness_pipeline = Pipeline([('imputer', SimpleImputer(strategy='most_frequent'))])\n",
    "gender_pipeline = Pipeline([\n",
    "    ('imputer', SimpleImputer(strategy='most_frequent')),\n",
    "    ('label_encoder', FunctionTransformer(encode_gender, validate=False, feature_names_out='one-to-one'))\n",
    "])\n",
    "living_status_pipeline = Pipeline([\n",
    "    ('imputer', SimpleImputer(strategy='most_frequent')),\n",
    "    ('label_encoder', FunctionTransformer(encode_living_status, validate=False, feature_names_out='one-to-one'))\n",
    "])\n",
    "zip3_pipeline = Pipeline([\n",
    "    ('imputer', SimpleImputer(strategy='most_frequent')),\n",
    "    ('zip3_extract', Zip3Extractor()),\n",
    "    ('target', TargetEncoderWrapper())\n",
    "])\n",
    "claim_date_pipeline = Pipeline([\n",
    "    ('imputer', SimpleImputer(strategy='most_frequent')),\n",
    "    ('extract_month_year', ExtractMonthYear()),\n",
    "    ('target', TargetEncoderWrapper())\n",
    "])\n",
    "num_pipeline = Pipeline([\n",
    "    ('imputer', SimpleImputer(strategy='median')),\n",
    "    ('scaler', MinMaxScaler())\n",
    "])\n",
    "target_cat_cols = ['claim_day_of_week', 'accident_site', 'channel', 'vehicle_category', 'vehicle_color']\n",
    "target_cat_pipeline = Pipeline([\n",
    "    ('imputer', SimpleImputer(strategy='most_frequent')),\n",
    "    ('target', TargetEncoderWrapper())\n",
    "])\n",
    "\n",
    "# ===  整合所有欄位轉換 ===\n",
    "transformers = [\n",
    "    ('marital_witness', marital_witness_pipeline, ['marital_status', 'witness_present_ind']),\n",
    "    ('gender', gender_pipeline, ['gender']),\n",
    "    ('living_status', living_status_pipeline, ['living_status']),\n",
    "    ('zip_code', zip3_pipeline, ['zip_code']),\n",
    "    ('claim_date', claim_date_pipeline, ['claim_date']),\n",
    "    ('num', num_pipeline, num_cols),\n",
    "    ('cat_imputer', target_cat_pipeline, target_cat_cols)\n",
    "]\n",
    "preprocessor = ColumnTransformer(transformers, remainder='passthrough')\n"
   ]
  },
  {
   "cell_type": "markdown",
   "id": "d5fd96bb",
   "metadata": {},
   "source": [
    "##### 6.設定 Halving Grid Search"
   ]
  },
  {
   "cell_type": "code",
   "execution_count": 7,
   "id": "ccbf623e",
   "metadata": {},
   "outputs": [],
   "source": [
    "# 超參數設置\n",
    "param_grid = {\n",
    "    \"n_estimators\": [100, 300],\n",
    "    \"max_depth\": [None, 10],\n",
    "    \"min_samples_split\": [2, 10],\n",
    "    \"min_samples_leaf\": [1, 4],\n",
    "    \"max_features\": [\"sqrt\"],\n",
    "    \"class_weight\": [None, \"balanced\"]\n",
    "}\n",
    "grid = list(ParameterGrid(param_grid))\n",
    "skf = StratifiedKFold(n_splits=5, shuffle=True, random_state=42)\n",
    "\n",
    "# 設定 halving 的參數\n",
    "max_iter = 6  # 幾輪 Halving\n",
    "factor = 2    # 每輪保留幾分之幾（例如 factor=2 表示每輪保留 50%）\n",
    "initial_frac = 1/32  # 初始訓練資料比例\n",
    "results = []    # 產生參數組合的 dict 清單\n",
    "current_candidates = grid.copy()"
   ]
  },
  {
   "cell_type": "markdown",
   "id": "5d312264",
   "metadata": {},
   "source": [
    "##### 7.Halving 交叉驗證訓練"
   ]
  },
  {
   "cell_type": "code",
   "execution_count": 8,
   "id": "16b9526c",
   "metadata": {},
   "outputs": [
    {
     "name": "stdout",
     "output_type": "stream",
     "text": [
      "\n",
      "=== Halving Iteration 0/6 ===\n",
      "Param: {'class_weight': None, 'max_depth': None, 'max_features': 'sqrt', 'min_samples_leaf': 1, 'min_samples_split': 2, 'n_estimators': 100} | AUC: 0.5920\n",
      "Param: {'class_weight': None, 'max_depth': None, 'max_features': 'sqrt', 'min_samples_leaf': 1, 'min_samples_split': 2, 'n_estimators': 300} | AUC: 0.5937\n",
      "Param: {'class_weight': None, 'max_depth': None, 'max_features': 'sqrt', 'min_samples_leaf': 1, 'min_samples_split': 10, 'n_estimators': 100} | AUC: 0.5879\n",
      "Param: {'class_weight': None, 'max_depth': None, 'max_features': 'sqrt', 'min_samples_leaf': 1, 'min_samples_split': 10, 'n_estimators': 300} | AUC: 0.5912\n",
      "Param: {'class_weight': None, 'max_depth': None, 'max_features': 'sqrt', 'min_samples_leaf': 4, 'min_samples_split': 2, 'n_estimators': 100} | AUC: 0.5954\n",
      "Param: {'class_weight': None, 'max_depth': None, 'max_features': 'sqrt', 'min_samples_leaf': 4, 'min_samples_split': 2, 'n_estimators': 300} | AUC: 0.5968\n",
      "Param: {'class_weight': None, 'max_depth': None, 'max_features': 'sqrt', 'min_samples_leaf': 4, 'min_samples_split': 10, 'n_estimators': 100} | AUC: 0.5895\n",
      "Param: {'class_weight': None, 'max_depth': None, 'max_features': 'sqrt', 'min_samples_leaf': 4, 'min_samples_split': 10, 'n_estimators': 300} | AUC: 0.5926\n",
      "Param: {'class_weight': None, 'max_depth': 10, 'max_features': 'sqrt', 'min_samples_leaf': 1, 'min_samples_split': 2, 'n_estimators': 100} | AUC: 0.5909\n",
      "Param: {'class_weight': None, 'max_depth': 10, 'max_features': 'sqrt', 'min_samples_leaf': 1, 'min_samples_split': 2, 'n_estimators': 300} | AUC: 0.5934\n",
      "Param: {'class_weight': None, 'max_depth': 10, 'max_features': 'sqrt', 'min_samples_leaf': 1, 'min_samples_split': 10, 'n_estimators': 100} | AUC: 0.5870\n",
      "Param: {'class_weight': None, 'max_depth': 10, 'max_features': 'sqrt', 'min_samples_leaf': 1, 'min_samples_split': 10, 'n_estimators': 300} | AUC: 0.5919\n",
      "Param: {'class_weight': None, 'max_depth': 10, 'max_features': 'sqrt', 'min_samples_leaf': 4, 'min_samples_split': 2, 'n_estimators': 100} | AUC: 0.5956\n",
      "Param: {'class_weight': None, 'max_depth': 10, 'max_features': 'sqrt', 'min_samples_leaf': 4, 'min_samples_split': 2, 'n_estimators': 300} | AUC: 0.5960\n",
      "Param: {'class_weight': None, 'max_depth': 10, 'max_features': 'sqrt', 'min_samples_leaf': 4, 'min_samples_split': 10, 'n_estimators': 100} | AUC: 0.5907\n",
      "Param: {'class_weight': None, 'max_depth': 10, 'max_features': 'sqrt', 'min_samples_leaf': 4, 'min_samples_split': 10, 'n_estimators': 300} | AUC: 0.5927\n",
      "Param: {'class_weight': 'balanced', 'max_depth': None, 'max_features': 'sqrt', 'min_samples_leaf': 1, 'min_samples_split': 2, 'n_estimators': 100} | AUC: 0.5920\n",
      "Param: {'class_weight': 'balanced', 'max_depth': None, 'max_features': 'sqrt', 'min_samples_leaf': 1, 'min_samples_split': 2, 'n_estimators': 300} | AUC: 0.5937\n",
      "Param: {'class_weight': 'balanced', 'max_depth': None, 'max_features': 'sqrt', 'min_samples_leaf': 1, 'min_samples_split': 10, 'n_estimators': 100} | AUC: 0.5879\n",
      "Param: {'class_weight': 'balanced', 'max_depth': None, 'max_features': 'sqrt', 'min_samples_leaf': 1, 'min_samples_split': 10, 'n_estimators': 300} | AUC: 0.5912\n",
      "Param: {'class_weight': 'balanced', 'max_depth': None, 'max_features': 'sqrt', 'min_samples_leaf': 4, 'min_samples_split': 2, 'n_estimators': 100} | AUC: 0.5954\n",
      "Param: {'class_weight': 'balanced', 'max_depth': None, 'max_features': 'sqrt', 'min_samples_leaf': 4, 'min_samples_split': 2, 'n_estimators': 300} | AUC: 0.5968\n",
      "Param: {'class_weight': 'balanced', 'max_depth': None, 'max_features': 'sqrt', 'min_samples_leaf': 4, 'min_samples_split': 10, 'n_estimators': 100} | AUC: 0.5895\n",
      "Param: {'class_weight': 'balanced', 'max_depth': None, 'max_features': 'sqrt', 'min_samples_leaf': 4, 'min_samples_split': 10, 'n_estimators': 300} | AUC: 0.5926\n",
      "Param: {'class_weight': 'balanced', 'max_depth': 10, 'max_features': 'sqrt', 'min_samples_leaf': 1, 'min_samples_split': 2, 'n_estimators': 100} | AUC: 0.5909\n",
      "Param: {'class_weight': 'balanced', 'max_depth': 10, 'max_features': 'sqrt', 'min_samples_leaf': 1, 'min_samples_split': 2, 'n_estimators': 300} | AUC: 0.5934\n",
      "Param: {'class_weight': 'balanced', 'max_depth': 10, 'max_features': 'sqrt', 'min_samples_leaf': 1, 'min_samples_split': 10, 'n_estimators': 100} | AUC: 0.5870\n",
      "Param: {'class_weight': 'balanced', 'max_depth': 10, 'max_features': 'sqrt', 'min_samples_leaf': 1, 'min_samples_split': 10, 'n_estimators': 300} | AUC: 0.5919\n",
      "Param: {'class_weight': 'balanced', 'max_depth': 10, 'max_features': 'sqrt', 'min_samples_leaf': 4, 'min_samples_split': 2, 'n_estimators': 100} | AUC: 0.5956\n",
      "Param: {'class_weight': 'balanced', 'max_depth': 10, 'max_features': 'sqrt', 'min_samples_leaf': 4, 'min_samples_split': 2, 'n_estimators': 300} | AUC: 0.5960\n",
      "Param: {'class_weight': 'balanced', 'max_depth': 10, 'max_features': 'sqrt', 'min_samples_leaf': 4, 'min_samples_split': 10, 'n_estimators': 100} | AUC: 0.5907\n",
      "Param: {'class_weight': 'balanced', 'max_depth': 10, 'max_features': 'sqrt', 'min_samples_leaf': 4, 'min_samples_split': 10, 'n_estimators': 300} | AUC: 0.5927\n",
      "\n",
      "=== Halving Iteration 1/6 ===\n",
      "Param: {'class_weight': None, 'max_depth': None, 'max_features': 'sqrt', 'min_samples_leaf': 4, 'min_samples_split': 2, 'n_estimators': 300} | AUC: 0.6206\n",
      "Param: {'class_weight': 'balanced', 'max_depth': None, 'max_features': 'sqrt', 'min_samples_leaf': 4, 'min_samples_split': 2, 'n_estimators': 300} | AUC: 0.6206\n",
      "Param: {'class_weight': None, 'max_depth': 10, 'max_features': 'sqrt', 'min_samples_leaf': 4, 'min_samples_split': 2, 'n_estimators': 300} | AUC: 0.6216\n",
      "Param: {'class_weight': 'balanced', 'max_depth': 10, 'max_features': 'sqrt', 'min_samples_leaf': 4, 'min_samples_split': 2, 'n_estimators': 300} | AUC: 0.6216\n",
      "Param: {'class_weight': None, 'max_depth': 10, 'max_features': 'sqrt', 'min_samples_leaf': 4, 'min_samples_split': 2, 'n_estimators': 100} | AUC: 0.6159\n",
      "Param: {'class_weight': 'balanced', 'max_depth': 10, 'max_features': 'sqrt', 'min_samples_leaf': 4, 'min_samples_split': 2, 'n_estimators': 100} | AUC: 0.6159\n",
      "Param: {'class_weight': None, 'max_depth': None, 'max_features': 'sqrt', 'min_samples_leaf': 4, 'min_samples_split': 2, 'n_estimators': 100} | AUC: 0.6188\n",
      "Param: {'class_weight': 'balanced', 'max_depth': None, 'max_features': 'sqrt', 'min_samples_leaf': 4, 'min_samples_split': 2, 'n_estimators': 100} | AUC: 0.6188\n",
      "Param: {'class_weight': None, 'max_depth': None, 'max_features': 'sqrt', 'min_samples_leaf': 1, 'min_samples_split': 2, 'n_estimators': 300} | AUC: 0.6188\n",
      "Param: {'class_weight': 'balanced', 'max_depth': None, 'max_features': 'sqrt', 'min_samples_leaf': 1, 'min_samples_split': 2, 'n_estimators': 300} | AUC: 0.6188\n",
      "Param: {'class_weight': None, 'max_depth': 10, 'max_features': 'sqrt', 'min_samples_leaf': 1, 'min_samples_split': 2, 'n_estimators': 300} | AUC: 0.6212\n",
      "Param: {'class_weight': 'balanced', 'max_depth': 10, 'max_features': 'sqrt', 'min_samples_leaf': 1, 'min_samples_split': 2, 'n_estimators': 300} | AUC: 0.6212\n",
      "Param: {'class_weight': None, 'max_depth': 10, 'max_features': 'sqrt', 'min_samples_leaf': 4, 'min_samples_split': 10, 'n_estimators': 300} | AUC: 0.6222\n",
      "Param: {'class_weight': 'balanced', 'max_depth': 10, 'max_features': 'sqrt', 'min_samples_leaf': 4, 'min_samples_split': 10, 'n_estimators': 300} | AUC: 0.6222\n",
      "Param: {'class_weight': None, 'max_depth': None, 'max_features': 'sqrt', 'min_samples_leaf': 4, 'min_samples_split': 10, 'n_estimators': 300} | AUC: 0.6211\n",
      "Param: {'class_weight': 'balanced', 'max_depth': None, 'max_features': 'sqrt', 'min_samples_leaf': 4, 'min_samples_split': 10, 'n_estimators': 300} | AUC: 0.6211\n",
      "\n",
      "=== Halving Iteration 2/6 ===\n",
      "Param: {'class_weight': None, 'max_depth': 10, 'max_features': 'sqrt', 'min_samples_leaf': 4, 'min_samples_split': 10, 'n_estimators': 300} | AUC: 0.6500\n",
      "Param: {'class_weight': 'balanced', 'max_depth': 10, 'max_features': 'sqrt', 'min_samples_leaf': 4, 'min_samples_split': 10, 'n_estimators': 300} | AUC: 0.6500\n",
      "Param: {'class_weight': None, 'max_depth': 10, 'max_features': 'sqrt', 'min_samples_leaf': 4, 'min_samples_split': 2, 'n_estimators': 300} | AUC: 0.6510\n",
      "Param: {'class_weight': 'balanced', 'max_depth': 10, 'max_features': 'sqrt', 'min_samples_leaf': 4, 'min_samples_split': 2, 'n_estimators': 300} | AUC: 0.6510\n",
      "Param: {'class_weight': None, 'max_depth': 10, 'max_features': 'sqrt', 'min_samples_leaf': 1, 'min_samples_split': 2, 'n_estimators': 300} | AUC: 0.6495\n",
      "Param: {'class_weight': 'balanced', 'max_depth': 10, 'max_features': 'sqrt', 'min_samples_leaf': 1, 'min_samples_split': 2, 'n_estimators': 300} | AUC: 0.6495\n",
      "Param: {'class_weight': None, 'max_depth': None, 'max_features': 'sqrt', 'min_samples_leaf': 4, 'min_samples_split': 10, 'n_estimators': 300} | AUC: 0.6497\n",
      "Param: {'class_weight': 'balanced', 'max_depth': None, 'max_features': 'sqrt', 'min_samples_leaf': 4, 'min_samples_split': 10, 'n_estimators': 300} | AUC: 0.6497\n",
      "\n",
      "=== Halving Iteration 3/6 ===\n",
      "Param: {'class_weight': None, 'max_depth': 10, 'max_features': 'sqrt', 'min_samples_leaf': 4, 'min_samples_split': 2, 'n_estimators': 300} | AUC: 0.6523\n",
      "Param: {'class_weight': 'balanced', 'max_depth': 10, 'max_features': 'sqrt', 'min_samples_leaf': 4, 'min_samples_split': 2, 'n_estimators': 300} | AUC: 0.6523\n",
      "Param: {'class_weight': None, 'max_depth': 10, 'max_features': 'sqrt', 'min_samples_leaf': 4, 'min_samples_split': 10, 'n_estimators': 300} | AUC: 0.6524\n",
      "Param: {'class_weight': 'balanced', 'max_depth': 10, 'max_features': 'sqrt', 'min_samples_leaf': 4, 'min_samples_split': 10, 'n_estimators': 300} | AUC: 0.6524\n",
      "\n",
      "=== Halving Iteration 4/6 ===\n",
      "Param: {'class_weight': None, 'max_depth': 10, 'max_features': 'sqrt', 'min_samples_leaf': 4, 'min_samples_split': 10, 'n_estimators': 300} | AUC: 0.6553\n",
      "Param: {'class_weight': 'balanced', 'max_depth': 10, 'max_features': 'sqrt', 'min_samples_leaf': 4, 'min_samples_split': 10, 'n_estimators': 300} | AUC: 0.6553\n",
      "\n",
      "=== Halving Iteration 5/6 ===\n",
      "Param: {'class_weight': None, 'max_depth': 10, 'max_features': 'sqrt', 'min_samples_leaf': 4, 'min_samples_split': 10, 'n_estimators': 300} | AUC: 0.6574\n",
      "\n",
      "=== Final Top Params ===\n",
      "{'class_weight': None, 'max_depth': 10, 'max_features': 'sqrt', 'min_samples_leaf': 4, 'min_samples_split': 10, 'n_estimators': 300} | AUC: 0.6574\n",
      "執行時間: 323.72 秒\n",
      "\n",
      "最佳超參數: {'class_weight': None, 'max_depth': 10, 'max_features': 'sqrt', 'min_samples_leaf': 4, 'min_samples_split': 10, 'n_estimators': 300}\n",
      "平均 ROC-AUC: 0.6574455803909507\n"
     ]
    },
    {
     "data": {
      "text/html": [
       "<style>#sk-container-id-1 {color: black;background-color: white;}#sk-container-id-1 pre{padding: 0;}#sk-container-id-1 div.sk-toggleable {background-color: white;}#sk-container-id-1 label.sk-toggleable__label {cursor: pointer;display: block;width: 100%;margin-bottom: 0;padding: 0.3em;box-sizing: border-box;text-align: center;}#sk-container-id-1 label.sk-toggleable__label-arrow:before {content: \"▸\";float: left;margin-right: 0.25em;color: #696969;}#sk-container-id-1 label.sk-toggleable__label-arrow:hover:before {color: black;}#sk-container-id-1 div.sk-estimator:hover label.sk-toggleable__label-arrow:before {color: black;}#sk-container-id-1 div.sk-toggleable__content {max-height: 0;max-width: 0;overflow: hidden;text-align: left;background-color: #f0f8ff;}#sk-container-id-1 div.sk-toggleable__content pre {margin: 0.2em;color: black;border-radius: 0.25em;background-color: #f0f8ff;}#sk-container-id-1 input.sk-toggleable__control:checked~div.sk-toggleable__content {max-height: 200px;max-width: 100%;overflow: auto;}#sk-container-id-1 input.sk-toggleable__control:checked~label.sk-toggleable__label-arrow:before {content: \"▾\";}#sk-container-id-1 div.sk-estimator input.sk-toggleable__control:checked~label.sk-toggleable__label {background-color: #d4ebff;}#sk-container-id-1 div.sk-label input.sk-toggleable__control:checked~label.sk-toggleable__label {background-color: #d4ebff;}#sk-container-id-1 input.sk-hidden--visually {border: 0;clip: rect(1px 1px 1px 1px);clip: rect(1px, 1px, 1px, 1px);height: 1px;margin: -1px;overflow: hidden;padding: 0;position: absolute;width: 1px;}#sk-container-id-1 div.sk-estimator {font-family: monospace;background-color: #f0f8ff;border: 1px dotted black;border-radius: 0.25em;box-sizing: border-box;margin-bottom: 0.5em;}#sk-container-id-1 div.sk-estimator:hover {background-color: #d4ebff;}#sk-container-id-1 div.sk-parallel-item::after {content: \"\";width: 100%;border-bottom: 1px solid gray;flex-grow: 1;}#sk-container-id-1 div.sk-label:hover label.sk-toggleable__label {background-color: #d4ebff;}#sk-container-id-1 div.sk-serial::before {content: \"\";position: absolute;border-left: 1px solid gray;box-sizing: border-box;top: 0;bottom: 0;left: 50%;z-index: 0;}#sk-container-id-1 div.sk-serial {display: flex;flex-direction: column;align-items: center;background-color: white;padding-right: 0.2em;padding-left: 0.2em;position: relative;}#sk-container-id-1 div.sk-item {position: relative;z-index: 1;}#sk-container-id-1 div.sk-parallel {display: flex;align-items: stretch;justify-content: center;background-color: white;position: relative;}#sk-container-id-1 div.sk-item::before, #sk-container-id-1 div.sk-parallel-item::before {content: \"\";position: absolute;border-left: 1px solid gray;box-sizing: border-box;top: 0;bottom: 0;left: 50%;z-index: -1;}#sk-container-id-1 div.sk-parallel-item {display: flex;flex-direction: column;z-index: 1;position: relative;background-color: white;}#sk-container-id-1 div.sk-parallel-item:first-child::after {align-self: flex-end;width: 50%;}#sk-container-id-1 div.sk-parallel-item:last-child::after {align-self: flex-start;width: 50%;}#sk-container-id-1 div.sk-parallel-item:only-child::after {width: 0;}#sk-container-id-1 div.sk-dashed-wrapped {border: 1px dashed gray;margin: 0 0.4em 0.5em 0.4em;box-sizing: border-box;padding-bottom: 0.4em;background-color: white;}#sk-container-id-1 div.sk-label label {font-family: monospace;font-weight: bold;display: inline-block;line-height: 1.2em;}#sk-container-id-1 div.sk-label-container {text-align: center;}#sk-container-id-1 div.sk-container {/* jupyter's `normalize.less` sets `[hidden] { display: none; }` but bootstrap.min.css set `[hidden] { display: none !important; }` so we also need the `!important` here to be able to override the default hidden behavior on the sphinx rendered scikit-learn.org. See: https://github.com/scikit-learn/scikit-learn/issues/21755 */display: inline-block !important;position: relative;}#sk-container-id-1 div.sk-text-repr-fallback {display: none;}</style><div id=\"sk-container-id-1\" class=\"sk-top-container\"><div class=\"sk-text-repr-fallback\"><pre>RandomForestClassifier(max_depth=10, min_samples_leaf=4, min_samples_split=10,\n",
       "                       n_estimators=300, n_jobs=-1, random_state=42)</pre><b>In a Jupyter environment, please rerun this cell to show the HTML representation or trust the notebook. <br />On GitHub, the HTML representation is unable to render, please try loading this page with nbviewer.org.</b></div><div class=\"sk-container\" hidden><div class=\"sk-item\"><div class=\"sk-estimator sk-toggleable\"><input class=\"sk-toggleable__control sk-hidden--visually\" id=\"sk-estimator-id-1\" type=\"checkbox\" checked><label for=\"sk-estimator-id-1\" class=\"sk-toggleable__label sk-toggleable__label-arrow\">RandomForestClassifier</label><div class=\"sk-toggleable__content\"><pre>RandomForestClassifier(max_depth=10, min_samples_leaf=4, min_samples_split=10,\n",
       "                       n_estimators=300, n_jobs=-1, random_state=42)</pre></div></div></div></div></div>"
      ],
      "text/plain": [
       "RandomForestClassifier(max_depth=10, min_samples_leaf=4, min_samples_split=10,\n",
       "                       n_estimators=300, n_jobs=-1, random_state=42)"
      ]
     },
     "execution_count": 8,
     "metadata": {},
     "output_type": "execute_result"
    }
   ],
   "source": [
    "# 計時開始\n",
    "start_time = time.time()\n",
    "for iteration in range(max_iter):\n",
    "    print(f\"\\n=== Halving Iteration {iteration}/{max_iter} ===\")\n",
    "\n",
    "    # 每一輪訓練資料增加\n",
    "    frac = min(initial_frac * (factor ** iteration), 1.0)\n",
    "    n_samples = int(len(X_train) * frac)\n",
    "    scores = []\n",
    "\n",
    "    for param in current_candidates:\n",
    "        aucs = []\n",
    "        for train_idx, val_idx in skf.split(X_train, y_train):\n",
    "            # 依照當前比例選前 n_samples\n",
    "            X_tr_f = X_train.iloc[train_idx][:n_samples].copy()\n",
    "            y_tr_f = y_train.iloc[train_idx][:n_samples].copy()\n",
    "            X_val_f = X_train.iloc[val_idx].copy()\n",
    "            y_val_f = y_train.iloc[val_idx].copy()\n",
    "\n",
    "            # Z-score 移除離群值\n",
    "            z_scores = X_tr_f[num_cols].apply(zscore)\n",
    "            mask_no_outliers = (z_scores.abs() < 3).all(axis=1)\n",
    "            X_tr_f = X_tr_f.loc[mask_no_outliers].reset_index(drop=True)\n",
    "            y_tr_f = y_tr_f.loc[mask_no_outliers].reset_index(drop=True)\n",
    "\n",
    "            # 特徵工程\n",
    "            X_tr_transformed = preprocessor.fit_transform(X_tr_f, y_tr_f)\n",
    "            X_val_transformed = preprocessor.transform(X_val_f)\n",
    "\n",
    "            # SMOTENC\n",
    "            feature_names = preprocessor.get_feature_names_out()\n",
    "            cat_indices = [i for i, col in enumerate(feature_names) if col.startswith(('gender__', 'living_status__', 'zip_code__', 'claim_date__', 'cat_imputer__', 'remainder__'))]\n",
    "            smote_nc = SMOTENC(categorical_features=cat_indices, random_state=42)\n",
    "            X_resampled, y_resampled = smote_nc.fit_resample(X_tr_transformed, y_tr_f)\n",
    "\n",
    "            # 模型訓練\n",
    "            model = RandomForestClassifier(**param, random_state=42)\n",
    "            model.fit(X_resampled, y_resampled)\n",
    "\n",
    "            # 驗證 AUC\n",
    "            y_pred_proba = model.predict_proba(X_val_transformed)[:, 1]\n",
    "            auc = roc_auc_score(y_val_f, y_pred_proba)\n",
    "            aucs.append(auc)\n",
    "\n",
    "        mean_auc = np.mean(aucs)\n",
    "        scores.append((param, mean_auc))\n",
    "        print(f\"Param: {param} | AUC: {mean_auc:.4f}\")\n",
    "\n",
    "    # 只在最後一輪時記錄結果\n",
    "    if iteration == max_iter - 1:\n",
    "        results = scores.copy()  # 只保留最後一輪的參數組合與分數\n",
    "    \n",
    "    # 保留 top k 進入下一輪\n",
    "    scores.sort(key=lambda x: x[1], reverse=True)\n",
    "    keep_top_k = max(1, len(scores) // factor)\n",
    "    current_candidates = [param for param, _ in scores[:keep_top_k]]\n",
    "\n",
    "print(\"\\n=== Final Top Params ===\")\n",
    "for param, auc in sorted(results, key=lambda x: x[1], reverse=True)[:5]:\n",
    "    print(f\"{param} | AUC: {auc:.4f}\")\n",
    "\n",
    "end_time = time.time()\n",
    "print(f\"執行時間: {end_time - start_time:.2f} 秒\")\n",
    "\n",
    "#  找出最佳組合\n",
    "best_param, best_score = max(results, key=lambda x: x[1])\n",
    "print(\"\\n最佳超參數:\", best_param)\n",
    "print(\"平均 ROC-AUC:\", best_score)\n",
    "\n",
    "# 訓練最終模型\n",
    "final_rf = RandomForestClassifier(random_state=42, n_jobs=-1, **best_param)\n",
    "final_rf.fit(X_resampled, y_resampled)\n"
   ]
  },
  {
   "cell_type": "markdown",
   "id": "20142f05",
   "metadata": {},
   "source": [
    "##### 8.驗證集選閾值並測試集評估"
   ]
  },
  {
   "cell_type": "code",
   "execution_count": 9,
   "id": "73209abc",
   "metadata": {},
   "outputs": [
    {
     "name": "stderr",
     "output_type": "stream",
     "text": [
      "d:\\users\\anaconda\\envs\\Fraud_Detection\\lib\\site-packages\\sklearn\\metrics\\_classification.py:1344: UndefinedMetricWarning: Precision is ill-defined and being set to 0.0 due to no predicted samples. Use `zero_division` parameter to control this behavior.\n",
      "  _warn_prf(average, modifier, msg_start, len(result))\n"
     ]
    },
    {
     "name": "stdout",
     "output_type": "stream",
     "text": [
      "最佳 Recall 下界時的閾值：0.3137\n"
     ]
    }
   ],
   "source": [
    "X_valid_transformed = preprocessor.transform(X_valid)\n",
    "y_proba = final_rf.predict_proba(X_valid_transformed)[:, 1]\n",
    "fpr, tpr, thresholds = roc_curve(y_valid, y_proba)\n",
    "roc_auc = sk_auc(fpr, tpr)\n",
    "\n",
    "# 以 Recall 下限 尋找最佳閾值\n",
    "target_recall = 0.8\n",
    "best_threshold = 0\n",
    "best_prec = 0\n",
    "for threshold in thresholds:\n",
    "    y_pred_thresh = (y_proba >= threshold).astype(int)\n",
    "    recall = recall_score(y_valid, y_pred_thresh)\n",
    "    precision = precision_score(y_valid, y_pred_thresh)\n",
    "    if recall >= target_recall and precision > best_prec:\n",
    "        best_prec = precision\n",
    "        best_threshold = threshold\n",
    "\n",
    "print(f'最佳 Recall 下界時的閾值：{best_threshold:.4f}')\n"
   ]
  },
  {
   "cell_type": "markdown",
   "id": "f2d8f150",
   "metadata": {},
   "source": [
    "##### 9.測試集評估與特徵重要性視覺化"
   ]
  },
  {
   "cell_type": "code",
   "execution_count": 10,
   "id": "4eec870e",
   "metadata": {},
   "outputs": [
    {
     "name": "stdout",
     "output_type": "stream",
     "text": [
      "測試集績效報告：\n",
      "              precision    recall  f1-score   support\n",
      "\n",
      "           0       0.92      0.42      0.58      3031\n",
      "           1       0.21      0.81      0.33       569\n",
      "\n",
      "    accuracy                           0.48      3600\n",
      "   macro avg       0.56      0.62      0.45      3600\n",
      "weighted avg       0.81      0.48      0.54      3600\n",
      "\n",
      "auc: 0.6693\n",
      "f2-score: 0.5124\n"
     ]
    },
    {
     "data": {
      "image/png": "[encoded data removed]",
      "text/plain": [
       "<Figure size 1000x690 with 1 Axes>"
      ]
     },
     "metadata": {},
     "output_type": "display_data"
    }
   ],
   "source": [
    "# === 預測與績效評估 ===\n",
    "X_test_transformed = preprocessor.transform(X_test)\n",
    "y_test_proba = final_rf.predict_proba(X_test_transformed)[:, 1]\n",
    "y_test_pred = (y_test_proba >= best_threshold).astype(int)\n",
    "\n",
    "print(\"測試集績效報告：\")\n",
    "print(classification_report(y_test, y_test_pred))\n",
    "print(f'auc: {roc_auc:.04f}')\n",
    "print(f'f2-score: {fbeta_score(y_test, y_test_pred, beta=2):.04f}')\n",
    "\n",
    "# === 特徵重要性分析 ===\n",
    "importances = final_rf.feature_importances_\n",
    "feature_names = preprocessor.get_feature_names_out()\n",
    "\n",
    "feat_imp = pd.DataFrame({\n",
    "    'feature': feature_names,\n",
    "    'importance': importances\n",
    "}).sort_values(by='importance', ascending=False)\n",
    "\n",
    "fig = plt.figure(figsize=(10, len(feat_imp) * 0.3))\n",
    "plt.barh(feat_imp['feature'][::-1], feat_imp['importance'][::-1], color='teal')\n",
    "plt.xlabel(\"Feature Importance\")\n",
    "plt.title(\"All Feature Importances (Random Forest)\")\n",
    "plt.tight_layout()\n",
    "save_plot(fig, \"feature_importance.png\", model_name='rf_halving')\n",
    "plt.show()"
   ]
  },
  {
   "cell_type": "markdown",
   "id": "ca80b8e3",
   "metadata": {},
   "source": []
  }
 ],
 "metadata": {
  "kernelspec": {
   "display_name": "Fraud_Detection",
   "language": "python",
   "name": "python3"
  },
  "language_info": {
   "codemirror_mode": {
    "name": "ipython",
    "version": 3
   },
   "file_extension": ".py",
   "mimetype": "text/x-python",
   "name": "python",
   "nbconvert_exporter": "python",
   "pygments_lexer": "ipython3",
   "version": "3.9.21"
  }
 },
 "nbformat": 4,
 "nbformat_minor": 5
}
